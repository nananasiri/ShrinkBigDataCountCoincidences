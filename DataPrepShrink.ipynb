{
 "cells": [
  {
   "cell_type": "markdown",
   "metadata": {},
   "source": [
    "# Convert .dat File to .csv File"
   ]
  },
  {
   "cell_type": "code",
   "execution_count": 2,
   "metadata": {},
   "outputs": [
    {
     "data": {
      "text/html": [
       "<div>\n",
       "<style scoped>\n",
       "    .dataframe tbody tr th:only-of-type {\n",
       "        vertical-align: middle;\n",
       "    }\n",
       "\n",
       "    .dataframe tbody tr th {\n",
       "        vertical-align: top;\n",
       "    }\n",
       "\n",
       "    .dataframe thead th {\n",
       "        text-align: right;\n",
       "    }\n",
       "</style>\n",
       "<table border=\"1\" class=\"dataframe\">\n",
       "  <thead>\n",
       "    <tr style=\"text-align: right;\">\n",
       "      <th></th>\n",
       "      <th>time10</th>\n",
       "      <th>energy11</th>\n",
       "      <th>x13</th>\n",
       "      <th>y14</th>\n",
       "      <th>z15</th>\n",
       "      <th>coincidence22</th>\n",
       "    </tr>\n",
       "  </thead>\n",
       "  <tbody>\n",
       "    <tr>\n",
       "      <th>0</th>\n",
       "      <td>9.73937533013884798061631e-08</td>\n",
       "      <td>5.106e-01</td>\n",
       "      <td>-1.037e+02</td>\n",
       "      <td>-6.710e+01</td>\n",
       "      <td>-8.560e+00</td>\n",
       "      <td>PhotoElectric</td>\n",
       "    </tr>\n",
       "    <tr>\n",
       "      <th>1</th>\n",
       "      <td>1.08863561612280026067232e-07</td>\n",
       "      <td>1.255e-01</td>\n",
       "      <td>1.037e+02</td>\n",
       "      <td>-5.655e+01</td>\n",
       "      <td>-7.579e+01</td>\n",
       "      <td>Compton</td>\n",
       "    </tr>\n",
       "    <tr>\n",
       "      <th>2</th>\n",
       "      <td>1.69836632602092011957352e-07</td>\n",
       "      <td>2.034e-01</td>\n",
       "      <td>-1.031e+02</td>\n",
       "      <td>1.820e+01</td>\n",
       "      <td>-3.255e+01</td>\n",
       "      <td>PhotoElectric</td>\n",
       "    </tr>\n",
       "    <tr>\n",
       "      <th>3</th>\n",
       "      <td>2.91086456714074876865280e-07</td>\n",
       "      <td>2.900e-01</td>\n",
       "      <td>-1.082e+02</td>\n",
       "      <td>-3.087e+01</td>\n",
       "      <td>-2.772e+01</td>\n",
       "      <td>Compton</td>\n",
       "    </tr>\n",
       "    <tr>\n",
       "      <th>4</th>\n",
       "      <td>2.91092387933187921964114e-07</td>\n",
       "      <td>7.707e-02</td>\n",
       "      <td>-1.069e+02</td>\n",
       "      <td>-3.203e+01</td>\n",
       "      <td>-2.800e+01</td>\n",
       "      <td>Compton</td>\n",
       "    </tr>\n",
       "    <tr>\n",
       "      <th>...</th>\n",
       "      <td>...</td>\n",
       "      <td>...</td>\n",
       "      <td>...</td>\n",
       "      <td>...</td>\n",
       "      <td>...</td>\n",
       "      <td>...</td>\n",
       "    </tr>\n",
       "    <tr>\n",
       "      <th>4995</th>\n",
       "      <td>6.95100719290013004635076e-04</td>\n",
       "      <td>2.277e-01</td>\n",
       "      <td>1.104e+02</td>\n",
       "      <td>-2.056e+00</td>\n",
       "      <td>4.184e+01</td>\n",
       "      <td>PhotoElectric</td>\n",
       "    </tr>\n",
       "    <tr>\n",
       "      <th>4996</th>\n",
       "      <td>6.95247914868270732932642e-04</td>\n",
       "      <td>1.025e-01</td>\n",
       "      <td>-1.007e+02</td>\n",
       "      <td>2.504e+01</td>\n",
       "      <td>-3.070e+01</td>\n",
       "      <td>Compton</td>\n",
       "    </tr>\n",
       "    <tr>\n",
       "      <th>4997</th>\n",
       "      <td>6.95842610395969022631102e-04</td>\n",
       "      <td>4.462e-02</td>\n",
       "      <td>1.179e+02</td>\n",
       "      <td>7.887e+01</td>\n",
       "      <td>-2.984e+00</td>\n",
       "      <td>Compton</td>\n",
       "    </tr>\n",
       "    <tr>\n",
       "      <th>4998</th>\n",
       "      <td>6.95842667936491282749956e-04</td>\n",
       "      <td>4.352e-01</td>\n",
       "      <td>1.277e+02</td>\n",
       "      <td>8.913e+01</td>\n",
       "      <td>6.841e+00</td>\n",
       "      <td>PhotoElectric</td>\n",
       "    </tr>\n",
       "    <tr>\n",
       "      <th>4999</th>\n",
       "      <td>6.95877189135636533418028e-04</td>\n",
       "      <td>3.873e-02</td>\n",
       "      <td>1.055e+02</td>\n",
       "      <td>1.311e+01</td>\n",
       "      <td>6.208e+01</td>\n",
       "      <td>Compton</td>\n",
       "    </tr>\n",
       "  </tbody>\n",
       "</table>\n",
       "<p>5000 rows × 6 columns</p>\n",
       "</div>"
      ],
      "text/plain": [
       "                             time10   energy11         x13         y14  \\\n",
       "0     9.73937533013884798061631e-08  5.106e-01  -1.037e+02  -6.710e+01   \n",
       "1     1.08863561612280026067232e-07  1.255e-01   1.037e+02  -5.655e+01   \n",
       "2     1.69836632602092011957352e-07  2.034e-01  -1.031e+02   1.820e+01   \n",
       "3     2.91086456714074876865280e-07  2.900e-01  -1.082e+02  -3.087e+01   \n",
       "4     2.91092387933187921964114e-07  7.707e-02  -1.069e+02  -3.203e+01   \n",
       "...                             ...        ...         ...         ...   \n",
       "4995  6.95100719290013004635076e-04  2.277e-01   1.104e+02  -2.056e+00   \n",
       "4996  6.95247914868270732932642e-04  1.025e-01  -1.007e+02   2.504e+01   \n",
       "4997  6.95842610395969022631102e-04  4.462e-02   1.179e+02   7.887e+01   \n",
       "4998  6.95842667936491282749956e-04  4.352e-01   1.277e+02   8.913e+01   \n",
       "4999  6.95877189135636533418028e-04  3.873e-02   1.055e+02   1.311e+01   \n",
       "\n",
       "             z15  coincidence22  \n",
       "0     -8.560e+00  PhotoElectric  \n",
       "1     -7.579e+01        Compton  \n",
       "2     -3.255e+01  PhotoElectric  \n",
       "3     -2.772e+01        Compton  \n",
       "4     -2.800e+01        Compton  \n",
       "...          ...            ...  \n",
       "4995   4.184e+01  PhotoElectric  \n",
       "4996  -3.070e+01        Compton  \n",
       "4997  -2.984e+00        Compton  \n",
       "4998   6.841e+00  PhotoElectric  \n",
       "4999   6.208e+01        Compton  \n",
       "\n",
       "[5000 rows x 6 columns]"
      ]
     },
     "execution_count": 2,
     "metadata": {},
     "output_type": "execute_result"
    }
   ],
   "source": [
    "import pandas as pd\n",
    "import numpy as np\n",
    "from collections import defaultdict\n",
    "dict = {'time10': [], 'energy11': [], 'x13': [], 'y14': [], 'z15': [], 'coincidence22': []}\n",
    "with open(\"Shrink50Big.dat\") as f:\n",
    "    counter = 0\n",
    "    for line in f:\n",
    "        counter += 1\n",
    "        line = line.split()\n",
    "        dict['time10'].append(line[10])\n",
    "        dict['energy11'].append(line[11])\n",
    "        dict['x13'].append(line[13])\n",
    "        dict['y14'].append(line[14])\n",
    "        dict['z15'].append(line[15])\n",
    "        dict['coincidence22'].append(line[22])\n",
    "        if counter >= 5000:\n",
    "            break\n",
    "df = pd.DataFrame(dict)\n",
    "df.to_csv(r'ShrinkBinned.csv', index=False, header=True, index_label = df.keys()) # Play with Header\n",
    "# print(df)\n",
    "df"
   ]
  },
  {
   "cell_type": "code",
   "execution_count": 3,
   "metadata": {},
   "outputs": [],
   "source": [
    "X = df[['time10', 'energy11', 'x13', 'y14', 'z15']].to_numpy()"
   ]
  },
  {
   "cell_type": "code",
   "execution_count": null,
   "metadata": {},
   "outputs": [],
   "source": []
  },
  {
   "cell_type": "code",
   "execution_count": 4,
   "metadata": {},
   "outputs": [
    {
     "name": "stdout",
     "output_type": "stream",
     "text": [
      "Unique labels: {'PhotoElectric': 1866, 'Compton': 2619, 'RayleighScattering': 310, 'msc': 189, 'ElectronIonisation': 6, 'annihil': 5, 'Transportation': 5}\n"
     ]
    },
    {
     "data": {
      "image/png": "[encoded data removed]",
      "text/plain": [
       "<Figure size 432x288 with 1 Axes>"
      ]
     },
     "metadata": {
      "needs_background": "light"
     },
     "output_type": "display_data"
    }
   ],
   "source": [
    "unique_labels = {}\n",
    "for label in df['coincidence22']:\n",
    "    if label in unique_labels:\n",
    "        unique_labels[label] += 1\n",
    "    else:\n",
    "        unique_labels[label] = 1\n",
    "\n",
    "print('Unique labels:', unique_labels)\n",
    "import matplotlib.pyplot as plt\n",
    "colors = {'P: 37%':'red', 'C: 51%':'green', 'R: 6%':'yellow', 'E':'blue', 'etc':'red'}\n",
    "labels = list(colors.keys())\n",
    "handles = [plt.Rectangle((0,0),1,1, color=colors[label]) for label in labels]\n",
    "plt.bar(list(range(len(unique_labels))), unique_labels.values(), 1, color=['r', 'g', 'y', 'b', 'r'])\n",
    "plt.ylabel('Number of Events per coincidence')\n",
    "plt.xlabel('Coincidences')\n",
    "\n",
    "plt.legend(handles, labels)\n",
    "\n",
    "\n",
    "plt.show()"
   ]
  },
  {
   "cell_type": "code",
   "execution_count": 27,
   "metadata": {},
   "outputs": [
    {
     "name": "stdout",
     "output_type": "stream",
     "text": [
      "Family Numbers =  7011\n"
     ]
    }
   ],
   "source": [
    "import numpy as np\n",
    "from collections import defaultdict\n",
    "import time\n",
    "mu, sigma = 0.0, 0.000000018\n",
    "mu1, sigma1 = 0.0, 17.35881104 #  511 keV * 8% FWHM/ 2.355\n",
    "rows = []\n",
    "compton_limit = 1\n",
    "photoelec_limit = 2\n",
    "with open('ShrinkBig.dat') as f:\n",
    "\tfor line in f:\n",
    "\t\tthis_line = line.split()\n",
    "\t\telem_10 = float(this_line[10])+ np.random.normal(mu, sigma)\n",
    "\t\tthis_line[10] = str(elem_10)\n",
    "\t\telem_11 = float(this_line[11]) * 1000\n",
    "\t\telem_11_1 = elem_11 + np.random.normal (mu1, sigma1)\n",
    "\t\tif elem_11_1 >= 10:\n",
    "\t\t\tthis_line[11] = str(elem_11_1)\n",
    "\t\trows.append(this_line)\n",
    "\n",
    "rows = sorted(rows, key=lambda x: float (x[10]))\n",
    "\n",
    "groups = defaultdict(list)\n",
    "c = 0\n",
    "p = 0\n",
    "time_interval = 0.00000002\n",
    "for row in rows:\n",
    "\ti = int(float(row[10])//time_interval + 1)\t\t\t\t\n",
    "\tgroups[str(i)].append(row)\n",
    "unvalid_groups = []\n",
    "\n",
    "for item in groups:\n",
    "\tcompton = 0\n",
    "\tPhotoElec = 0\n",
    "\tfor elem in groups[item]:\n",
    "\t\tif elem[-3] == \"Compton\":\n",
    "\t\t\tcompton += 1\n",
    "\t\telif elem[-3] == \"PhotoElectric\":\n",
    "\t\t\tPhotoElec += 1\n",
    "\t# if compton <= compton_limit  or PhotoElec !=photoelec_limit: # ghablan in bud!\n",
    "\tif compton != compton_limit or PhotoElec != photoelec_limit: # Nana\n",
    "\n",
    "\t\tunvalid_groups.append(item)\n",
    "\n",
    "\n",
    "\n",
    "for unvalid in unvalid_groups:\n",
    "\tif unvalid in groups:\n",
    "\t\tdel groups[unvalid]\n",
    "print(\"Family Numbers = \", len(groups))\n",
    "\n",
    "\n",
    "# t0 = time.time()\n",
    "\n",
    "# # writing the family members into a dat file\n",
    "# with open('ShrinkBinnedBlurred4.csv', 'w') as f:\n",
    "# \tfor family in groups:\n",
    "# \t\tfor member in groups[family]:\n",
    "# \t\t\tline = \"\\t\".join(member)\n",
    "# \t\t\tf.write(line)\n",
    "# \t\t\tf.write(\"\\n\")\n",
    "\n",
    "# \t\tf.write(\"\\r\")\n",
    "# \t\tf.write(\"\\n\")\n"
   ]
  },
  {
   "cell_type": "code",
   "execution_count": 40,
   "metadata": {},
   "outputs": [
    {
     "data": {
      "image/png": "[encoded data removed]",
      "text/plain": [
       "<Figure size 432x288 with 1 Axes>"
      ]
     },
     "metadata": {
      "needs_background": "light"
     },
     "output_type": "display_data"
    }
   ],
   "source": [
    "Family_Numbers =  [9341, 6842, 3089]\n",
    "# unique_labels = {}\n",
    "# for label in df['coincidence22']:\n",
    "#     if label in unique_labels:\n",
    "#         unique_labels[label] += 1\n",
    "#     else:\n",
    "#         unique_labels[label] = 1\n",
    "\n",
    "# print('Family Numbers:', len(groups))\n",
    "import matplotlib.pyplot as plt\n",
    "colors = {'PP':'red', '1C2P: 73%':'green', '2C2P: 33%':'yellow'}\n",
    "labels = list(colors.keys())\n",
    "handles = [plt.Rectangle((0,0),1,1, color=colors[label]) for label in labels]\n",
    "plt.bar(list(range(len(Family_Numbers))),Family_Numbers, 1, color=['r', 'g', 'y'])\n",
    "plt.ylabel('Number of groups')\n",
    "plt.xlabel('Groups')\n",
    "plt.legend(handles, labels)\n",
    "plt.show()"
   ]
  },
  {
   "cell_type": "markdown",
   "metadata": {},
   "source": [
    "# How to shrink Big Data and take part of it!"
   ]
  },
  {
   "cell_type": "code",
   "execution_count": 1,
   "metadata": {},
   "outputs": [],
   "source": [
    "import pandas as pd\n",
    "import numpy as np\n",
    "from collections import defaultdict\n",
    "import time\n",
    "import numpy as np"
   ]
  },
  {
   "cell_type": "code",
   "execution_count": 2,
   "metadata": {},
   "outputs": [
    {
     "name": "stdout",
     "output_type": "stream",
     "text": [
      "time spent:  98.75781011581421 (s)\n",
      "number of lines 110036263\n"
     ]
    }
   ],
   "source": [
    "t0 = time.time()\n",
    "n_lines = 0\n",
    "with open(\"ascii_output_lessSource_0_to_16sHits.dat\") as f:\n",
    "    for line in f:\n",
    "        n_lines += 1\n",
    "print(\"time spent: \", time.time()-t0, '(s)')\n",
    "print(\"number of lines\", n_lines)"
   ]
  },
  {
   "cell_type": "code",
   "execution_count": 3,
   "metadata": {},
   "outputs": [
    {
     "name": "stdout",
     "output_type": "stream",
     "text": [
      "1.0007446363386585 % of the dataset is selected\n"
     ]
    }
   ],
   "source": [
    "fraction = 0.01\n",
    "dict = {'time': [], 'energy': [], 'x': [], 'y': [], 'z': [], 'coincidence': []}\n",
    "with open(\"ascii_output_lessSource_0_to_16sHits.dat\") as f:\n",
    "    with open(\"Shrink.dat\",'w') as g:\n",
    "        counter = 0\n",
    "        for line in f:\n",
    "            if np.random.rand() <= fraction:\n",
    "                counter += 1\n",
    "                g.write(line)\n",
    "print(counter/n_lines*100, '% of the dataset is selected')"
   ]
  },
  {
   "cell_type": "code",
   "execution_count": 36,
   "metadata": {},
   "outputs": [
    {
     "data": {
      "text/plain": [
       "0.6386366746607236"
      ]
     },
     "execution_count": 36,
     "metadata": {},
     "output_type": "execute_result"
    }
   ],
   "source": [
    "np.random.rand()"
   ]
  },
  {
   "cell_type": "code",
   "execution_count": 39,
   "metadata": {},
   "outputs": [
    {
     "data": {
      "text/plain": [
       "-8.56"
      ]
     },
     "execution_count": 39,
     "metadata": {},
     "output_type": "execute_result"
    }
   ],
   "source": [
    "float(-8.560e+00)"
   ]
  },
  {
   "cell_type": "code",
   "execution_count": 2,
   "metadata": {},
   "outputs": [],
   "source": [
    "import pandas as pd\n",
    "import numpy as np\n",
    "from collections import defaultdict\n",
    "# dict = {'time10': [], 'energy11': [], 'x13': [], 'y14': [], 'z15': [], 'coincidence22': []}\n",
    "with open(\"ascii_output_lessSource_0_to_16sHits.dat\") as f:\n",
    "    with open(\"Shrink50Big.dat\",'w') as g:\n",
    "        counter = 0\n",
    "        for line in f:\n",
    "            counter +=1\n",
    "            g.write(line)\n",
    "\n",
    "            if counter >= 50000000:\n",
    "                break"
   ]
  },
  {
   "cell_type": "code",
   "execution_count": 3,
   "metadata": {},
   "outputs": [
    {
     "name": "stdout",
     "output_type": "stream",
     "text": [
      "1000000\n"
     ]
    }
   ],
   "source": [
    "print(counter)"
   ]
  },
  {
   "cell_type": "code",
   "execution_count": null,
   "metadata": {},
   "outputs": [],
   "source": []
  },
  {
   "cell_type": "code",
   "execution_count": null,
   "metadata": {},
   "outputs": [],
   "source": []
  }
 ],
 "metadata": {
  "kernelspec": {
   "display_name": "Python 3",
   "language": "python",
   "name": "python3"
  },
  "language_info": {
   "codemirror_mode": {
    "name": "ipython",
    "version": 3
   },
   "file_extension": ".py",
   "mimetype": "text/x-python",
   "name": "python",
   "nbconvert_exporter": "python",
   "pygments_lexer": "ipython3",
   "version": "3.6.10"
  }
 },
 "nbformat": 4,
 "nbformat_minor": 2
}
